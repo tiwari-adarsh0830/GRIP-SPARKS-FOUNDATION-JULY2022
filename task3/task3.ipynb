{
 "cells": [
  {
   "cell_type": "markdown",
   "id": "03ce48d1",
   "metadata": {},
   "source": [
    "# Exploratory Data Analysis-Retail"
   ]
  },
  {
   "cell_type": "markdown",
   "id": "75722fbb",
   "metadata": {},
   "source": [
    "# Author-Adarsh Tiwari"
   ]
  },
  {
   "cell_type": "markdown",
   "id": "f829eee4",
   "metadata": {},
   "source": [
    "# THE SPARKS FOUNDATION (GRIP): DATA SCIENCE AND BUSINESS ANALYTICS"
   ]
  },
  {
   "cell_type": "markdown",
   "id": "57350064",
   "metadata": {},
   "source": [
    "    Aim-\"Exploratory Data Analysis on dataset-'SampleSuperstore'\n",
    "\n",
    "        As a business manager try to find out the weak areas where you can \n",
    "        work to make profit\n",
    "        \n",
    "        Derive business problem by exploring data\n",
    "                "
   ]
  },
  {
   "cell_type": "code",
   "execution_count": 1,
   "id": "ec7fbfae",
   "metadata": {},
   "outputs": [],
   "source": [
    "import matplotlib.pyplot as plt\n",
    "import seaborn as sns\n",
    "import pandas as pd\n",
    "import numpy as np\n",
    "%matplotlib inline"
   ]
  },
  {
   "cell_type": "markdown",
   "id": "e6e7207e",
   "metadata": {},
   "source": [
    "## Data Import and Analysis"
   ]
  },
  {
   "cell_type": "code",
   "execution_count": 2,
   "id": "e07ab191",
   "metadata": {},
   "outputs": [],
   "source": [
    "#reading the dataset\n",
    "ds_store=pd.read_csv('SampleSuperstore.csv')"
   ]
  },
  {
   "cell_type": "code",
   "execution_count": 3,
   "id": "78d241ca",
   "metadata": {},
   "outputs": [
    {
     "data": {
      "text/html": [
       "<div>\n",
       "<style scoped>\n",
       "    .dataframe tbody tr th:only-of-type {\n",
       "        vertical-align: middle;\n",
       "    }\n",
       "\n",
       "    .dataframe tbody tr th {\n",
       "        vertical-align: top;\n",
       "    }\n",
       "\n",
       "    .dataframe thead th {\n",
       "        text-align: right;\n",
       "    }\n",
       "</style>\n",
       "<table border=\"1\" class=\"dataframe\">\n",
       "  <thead>\n",
       "    <tr style=\"text-align: right;\">\n",
       "      <th></th>\n",
       "      <th>Ship Mode</th>\n",
       "      <th>Segment</th>\n",
       "      <th>Country</th>\n",
       "      <th>City</th>\n",
       "      <th>State</th>\n",
       "      <th>Postal Code</th>\n",
       "      <th>Region</th>\n",
       "      <th>Category</th>\n",
       "      <th>Sub-Category</th>\n",
       "      <th>Sales</th>\n",
       "      <th>Quantity</th>\n",
       "      <th>Discount</th>\n",
       "      <th>Profit</th>\n",
       "    </tr>\n",
       "  </thead>\n",
       "  <tbody>\n",
       "    <tr>\n",
       "      <th>0</th>\n",
       "      <td>Second Class</td>\n",
       "      <td>Consumer</td>\n",
       "      <td>United States</td>\n",
       "      <td>Henderson</td>\n",
       "      <td>Kentucky</td>\n",
       "      <td>42420</td>\n",
       "      <td>South</td>\n",
       "      <td>Furniture</td>\n",
       "      <td>Bookcases</td>\n",
       "      <td>261.9600</td>\n",
       "      <td>2</td>\n",
       "      <td>0.00</td>\n",
       "      <td>41.9136</td>\n",
       "    </tr>\n",
       "    <tr>\n",
       "      <th>1</th>\n",
       "      <td>Second Class</td>\n",
       "      <td>Consumer</td>\n",
       "      <td>United States</td>\n",
       "      <td>Henderson</td>\n",
       "      <td>Kentucky</td>\n",
       "      <td>42420</td>\n",
       "      <td>South</td>\n",
       "      <td>Furniture</td>\n",
       "      <td>Chairs</td>\n",
       "      <td>731.9400</td>\n",
       "      <td>3</td>\n",
       "      <td>0.00</td>\n",
       "      <td>219.5820</td>\n",
       "    </tr>\n",
       "    <tr>\n",
       "      <th>2</th>\n",
       "      <td>Second Class</td>\n",
       "      <td>Corporate</td>\n",
       "      <td>United States</td>\n",
       "      <td>Los Angeles</td>\n",
       "      <td>California</td>\n",
       "      <td>90036</td>\n",
       "      <td>West</td>\n",
       "      <td>Office Supplies</td>\n",
       "      <td>Labels</td>\n",
       "      <td>14.6200</td>\n",
       "      <td>2</td>\n",
       "      <td>0.00</td>\n",
       "      <td>6.8714</td>\n",
       "    </tr>\n",
       "    <tr>\n",
       "      <th>3</th>\n",
       "      <td>Standard Class</td>\n",
       "      <td>Consumer</td>\n",
       "      <td>United States</td>\n",
       "      <td>Fort Lauderdale</td>\n",
       "      <td>Florida</td>\n",
       "      <td>33311</td>\n",
       "      <td>South</td>\n",
       "      <td>Furniture</td>\n",
       "      <td>Tables</td>\n",
       "      <td>957.5775</td>\n",
       "      <td>5</td>\n",
       "      <td>0.45</td>\n",
       "      <td>-383.0310</td>\n",
       "    </tr>\n",
       "    <tr>\n",
       "      <th>4</th>\n",
       "      <td>Standard Class</td>\n",
       "      <td>Consumer</td>\n",
       "      <td>United States</td>\n",
       "      <td>Fort Lauderdale</td>\n",
       "      <td>Florida</td>\n",
       "      <td>33311</td>\n",
       "      <td>South</td>\n",
       "      <td>Office Supplies</td>\n",
       "      <td>Storage</td>\n",
       "      <td>22.3680</td>\n",
       "      <td>2</td>\n",
       "      <td>0.20</td>\n",
       "      <td>2.5164</td>\n",
       "    </tr>\n",
       "  </tbody>\n",
       "</table>\n",
       "</div>"
      ],
      "text/plain": [
       "        Ship Mode    Segment        Country             City       State  \\\n",
       "0    Second Class   Consumer  United States        Henderson    Kentucky   \n",
       "1    Second Class   Consumer  United States        Henderson    Kentucky   \n",
       "2    Second Class  Corporate  United States      Los Angeles  California   \n",
       "3  Standard Class   Consumer  United States  Fort Lauderdale     Florida   \n",
       "4  Standard Class   Consumer  United States  Fort Lauderdale     Florida   \n",
       "\n",
       "   Postal Code Region         Category Sub-Category     Sales  Quantity  \\\n",
       "0        42420  South        Furniture    Bookcases  261.9600         2   \n",
       "1        42420  South        Furniture       Chairs  731.9400         3   \n",
       "2        90036   West  Office Supplies       Labels   14.6200         2   \n",
       "3        33311  South        Furniture       Tables  957.5775         5   \n",
       "4        33311  South  Office Supplies      Storage   22.3680         2   \n",
       "\n",
       "   Discount    Profit  \n",
       "0      0.00   41.9136  \n",
       "1      0.00  219.5820  \n",
       "2      0.00    6.8714  \n",
       "3      0.45 -383.0310  \n",
       "4      0.20    2.5164  "
      ]
     },
     "execution_count": 3,
     "metadata": {},
     "output_type": "execute_result"
    }
   ],
   "source": [
    "ds_store.head()"
   ]
  },
  {
   "cell_type": "code",
   "execution_count": 4,
   "id": "f8d95410",
   "metadata": {},
   "outputs": [
    {
     "name": "stdout",
     "output_type": "stream",
     "text": [
      "<class 'pandas.core.frame.DataFrame'>\n",
      "RangeIndex: 9994 entries, 0 to 9993\n",
      "Data columns (total 13 columns):\n",
      " #   Column        Non-Null Count  Dtype  \n",
      "---  ------        --------------  -----  \n",
      " 0   Ship Mode     9994 non-null   object \n",
      " 1   Segment       9994 non-null   object \n",
      " 2   Country       9994 non-null   object \n",
      " 3   City          9994 non-null   object \n",
      " 4   State         9994 non-null   object \n",
      " 5   Postal Code   9994 non-null   int64  \n",
      " 6   Region        9994 non-null   object \n",
      " 7   Category      9994 non-null   object \n",
      " 8   Sub-Category  9994 non-null   object \n",
      " 9   Sales         9994 non-null   float64\n",
      " 10  Quantity      9994 non-null   int64  \n",
      " 11  Discount      9994 non-null   float64\n",
      " 12  Profit        9994 non-null   float64\n",
      "dtypes: float64(3), int64(2), object(8)\n",
      "memory usage: 1015.1+ KB\n"
     ]
    }
   ],
   "source": [
    "ds_store.info()"
   ]
  },
  {
   "cell_type": "code",
   "execution_count": 5,
   "id": "ce34ec03",
   "metadata": {},
   "outputs": [
    {
     "data": {
      "text/plain": [
       "Ship Mode       9994\n",
       "Segment         9994\n",
       "Country         9994\n",
       "City            9994\n",
       "State           9994\n",
       "Postal Code     9994\n",
       "Region          9994\n",
       "Category        9994\n",
       "Sub-Category    9994\n",
       "Sales           9994\n",
       "Quantity        9994\n",
       "Discount        9994\n",
       "Profit          9994\n",
       "dtype: int64"
      ]
     },
     "execution_count": 5,
     "metadata": {},
     "output_type": "execute_result"
    }
   ],
   "source": [
    "ds_store.count()"
   ]
  },
  {
   "cell_type": "code",
   "execution_count": 6,
   "id": "182041fd",
   "metadata": {},
   "outputs": [
    {
     "data": {
      "text/html": [
       "<div>\n",
       "<style scoped>\n",
       "    .dataframe tbody tr th:only-of-type {\n",
       "        vertical-align: middle;\n",
       "    }\n",
       "\n",
       "    .dataframe tbody tr th {\n",
       "        vertical-align: top;\n",
       "    }\n",
       "\n",
       "    .dataframe thead th {\n",
       "        text-align: right;\n",
       "    }\n",
       "</style>\n",
       "<table border=\"1\" class=\"dataframe\">\n",
       "  <thead>\n",
       "    <tr style=\"text-align: right;\">\n",
       "      <th></th>\n",
       "      <th>Postal Code</th>\n",
       "      <th>Sales</th>\n",
       "      <th>Quantity</th>\n",
       "      <th>Discount</th>\n",
       "      <th>Profit</th>\n",
       "    </tr>\n",
       "  </thead>\n",
       "  <tbody>\n",
       "    <tr>\n",
       "      <th>count</th>\n",
       "      <td>9994.000000</td>\n",
       "      <td>9994.000000</td>\n",
       "      <td>9994.000000</td>\n",
       "      <td>9994.000000</td>\n",
       "      <td>9994.000000</td>\n",
       "    </tr>\n",
       "    <tr>\n",
       "      <th>mean</th>\n",
       "      <td>55190.379428</td>\n",
       "      <td>229.858001</td>\n",
       "      <td>3.789574</td>\n",
       "      <td>0.156203</td>\n",
       "      <td>28.656896</td>\n",
       "    </tr>\n",
       "    <tr>\n",
       "      <th>std</th>\n",
       "      <td>32063.693350</td>\n",
       "      <td>623.245101</td>\n",
       "      <td>2.225110</td>\n",
       "      <td>0.206452</td>\n",
       "      <td>234.260108</td>\n",
       "    </tr>\n",
       "    <tr>\n",
       "      <th>min</th>\n",
       "      <td>1040.000000</td>\n",
       "      <td>0.444000</td>\n",
       "      <td>1.000000</td>\n",
       "      <td>0.000000</td>\n",
       "      <td>-6599.978000</td>\n",
       "    </tr>\n",
       "    <tr>\n",
       "      <th>25%</th>\n",
       "      <td>23223.000000</td>\n",
       "      <td>17.280000</td>\n",
       "      <td>2.000000</td>\n",
       "      <td>0.000000</td>\n",
       "      <td>1.728750</td>\n",
       "    </tr>\n",
       "    <tr>\n",
       "      <th>50%</th>\n",
       "      <td>56430.500000</td>\n",
       "      <td>54.490000</td>\n",
       "      <td>3.000000</td>\n",
       "      <td>0.200000</td>\n",
       "      <td>8.666500</td>\n",
       "    </tr>\n",
       "    <tr>\n",
       "      <th>75%</th>\n",
       "      <td>90008.000000</td>\n",
       "      <td>209.940000</td>\n",
       "      <td>5.000000</td>\n",
       "      <td>0.200000</td>\n",
       "      <td>29.364000</td>\n",
       "    </tr>\n",
       "    <tr>\n",
       "      <th>max</th>\n",
       "      <td>99301.000000</td>\n",
       "      <td>22638.480000</td>\n",
       "      <td>14.000000</td>\n",
       "      <td>0.800000</td>\n",
       "      <td>8399.976000</td>\n",
       "    </tr>\n",
       "  </tbody>\n",
       "</table>\n",
       "</div>"
      ],
      "text/plain": [
       "        Postal Code         Sales     Quantity     Discount       Profit\n",
       "count   9994.000000   9994.000000  9994.000000  9994.000000  9994.000000\n",
       "mean   55190.379428    229.858001     3.789574     0.156203    28.656896\n",
       "std    32063.693350    623.245101     2.225110     0.206452   234.260108\n",
       "min     1040.000000      0.444000     1.000000     0.000000 -6599.978000\n",
       "25%    23223.000000     17.280000     2.000000     0.000000     1.728750\n",
       "50%    56430.500000     54.490000     3.000000     0.200000     8.666500\n",
       "75%    90008.000000    209.940000     5.000000     0.200000    29.364000\n",
       "max    99301.000000  22638.480000    14.000000     0.800000  8399.976000"
      ]
     },
     "execution_count": 6,
     "metadata": {},
     "output_type": "execute_result"
    }
   ],
   "source": [
    "#statistical data analysis\n",
    "ds_store.describe()"
   ]
  },
  {
   "cell_type": "code",
   "execution_count": 8,
   "id": "3a73a49a",
   "metadata": {},
   "outputs": [
    {
     "data": {
      "text/plain": [
       "Index(['Ship Mode', 'Segment', 'Country', 'City', 'State', 'Postal Code',\n",
       "       'Region', 'Category', 'Sub-Category', 'Sales', 'Quantity', 'Discount',\n",
       "       'Profit'],\n",
       "      dtype='object')"
      ]
     },
     "execution_count": 8,
     "metadata": {},
     "output_type": "execute_result"
    }
   ],
   "source": [
    "ds_store.columns"
   ]
  },
  {
   "cell_type": "code",
   "execution_count": 9,
   "id": "052f34ca",
   "metadata": {},
   "outputs": [
    {
     "data": {
      "text/plain": [
       "(9994, 13)"
      ]
     },
     "execution_count": 9,
     "metadata": {},
     "output_type": "execute_result"
    }
   ],
   "source": [
    "ds_store.shape"
   ]
  },
  {
   "cell_type": "code",
   "execution_count": 13,
   "id": "a92441ef",
   "metadata": {},
   "outputs": [
    {
     "data": {
      "text/plain": [
       "Ship Mode       0\n",
       "Segment         0\n",
       "Country         0\n",
       "City            0\n",
       "State           0\n",
       "Postal Code     0\n",
       "Region          0\n",
       "Category        0\n",
       "Sub-Category    0\n",
       "Sales           0\n",
       "Quantity        0\n",
       "Discount        0\n",
       "Profit          0\n",
       "dtype: int64"
      ]
     },
     "execution_count": 13,
     "metadata": {},
     "output_type": "execute_result"
    }
   ],
   "source": [
    "ds_store.isnull().sum()"
   ]
  },
  {
   "cell_type": "markdown",
   "id": "9c71f88d",
   "metadata": {},
   "source": [
    "It appears dataset has no null or empty values"
   ]
  },
  {
   "cell_type": "code",
   "execution_count": 14,
   "id": "3d68ba1c",
   "metadata": {},
   "outputs": [
    {
     "data": {
      "text/plain": [
       "Ship Mode          4\n",
       "Segment            3\n",
       "Country            1\n",
       "City             531\n",
       "State             49\n",
       "Postal Code      631\n",
       "Region             4\n",
       "Category           3\n",
       "Sub-Category      17\n",
       "Sales           5825\n",
       "Quantity          14\n",
       "Discount          12\n",
       "Profit          7287\n",
       "dtype: int64"
      ]
     },
     "execution_count": 14,
     "metadata": {},
     "output_type": "execute_result"
    }
   ],
   "source": [
    "ds_store.nunique()"
   ]
  },
  {
   "cell_type": "code",
   "execution_count": 18,
   "id": "b06013fc",
   "metadata": {},
   "outputs": [
    {
     "data": {
      "text/plain": [
       "17"
      ]
     },
     "execution_count": 18,
     "metadata": {},
     "output_type": "execute_result"
    }
   ],
   "source": [
    "ds_store.duplicated().sum()"
   ]
  },
  {
   "cell_type": "markdown",
   "id": "e92ef950",
   "metadata": {},
   "source": [
    "Dataset has 17 duplicate entries"
   ]
  },
  {
   "cell_type": "code",
   "execution_count": 22,
   "id": "cca97764",
   "metadata": {},
   "outputs": [],
   "source": [
    "ds_store=ds_store.drop_duplicates()\n",
    "#dropping the duplocate entries"
   ]
  },
  {
   "cell_type": "code",
   "execution_count": 25,
   "id": "1a6de93d",
   "metadata": {},
   "outputs": [
    {
     "name": "stdout",
     "output_type": "stream",
     "text": [
      "Total quantities sold are 37820\n",
      "Total sales are 2296195.5903\n",
      "Total profit 286241.4226\n"
     ]
    }
   ],
   "source": [
    "print('Total quantities sold are {}'.format(ds_store['Quantity'].sum()))\n",
    "print('Total sales are {}'.format(ds_store['Sales'].sum()))\n",
    "print('Total profit {}'.format(ds_store['Profit'].sum()))"
   ]
  },
  {
   "cell_type": "markdown",
   "id": "93bbd3df",
   "metadata": {},
   "source": [
    "## Data Visualization"
   ]
  },
  {
   "cell_type": "code",
   "execution_count": 27,
   "id": "bf653d18",
   "metadata": {},
   "outputs": [
    {
     "data": {
      "text/plain": [
       "<AxesSubplot:>"
      ]
     },
     "execution_count": 27,
     "metadata": {},
     "output_type": "execute_result"
    },
    {
     "data": {
      "image/png": "[encoded data removed]",
      "text/plain": [
       "<Figure size 432x288 with 1 Axes>"
      ]
     },
     "metadata": {
      "needs_background": "light"
     },
     "output_type": "display_data"
    }
   ],
   "source": [
    "ds_store['Region'].value_counts().plot.bar()"
   ]
  },
  {
   "cell_type": "markdown",
   "id": "9aaa4866",
   "metadata": {},
   "source": [
    "IT TELLS MAXIMUM TRANSACTIONS WERE MADE IN WEST REGION"
   ]
  },
  {
   "cell_type": "code",
   "execution_count": 30,
   "id": "967a8f41",
   "metadata": {},
   "outputs": [
    {
     "data": {
      "text/plain": [
       "<AxesSubplot:ylabel='Category'>"
      ]
     },
     "execution_count": 30,
     "metadata": {},
     "output_type": "execute_result"
    },
    {
     "data": {
      "image/png": "[encoded data removed]",
      "text/plain": [
       "<Figure size 432x288 with 1 Axes>"
      ]
     },
     "metadata": {},
     "output_type": "display_data"
    }
   ],
   "source": [
    "ds_store.Category.value_counts().plot.pie(autopct=\"%.1f%%\")"
   ]
  },
  {
   "cell_type": "markdown",
   "id": "860d8a8f",
   "metadata": {},
   "source": [
    "Most items bought come in Office Supplies Category"
   ]
  },
  {
   "cell_type": "code",
   "execution_count": 31,
   "id": "035adf3c",
   "metadata": {},
   "outputs": [
    {
     "name": "stderr",
     "output_type": "stream",
     "text": [
      "C:\\Users\\adars\\AppData\\Local\\Temp/ipykernel_1028/1079336602.py:1: FutureWarning: Indexing with multiple keys (implicitly converted to a tuple of keys) will be deprecated, use a list instead.\n",
      "  ds_store.groupby(['Region'])['Sales','Profit'].sum().plot.bar(figsize=(12,6))\n"
     ]
    },
    {
     "data": {
      "text/plain": [
       "Text(0.5, 1.0, 'REGION WISE SALES AND PROFIT')"
      ]
     },
     "execution_count": 31,
     "metadata": {},
     "output_type": "execute_result"
    },
    {
     "data": {
      "image/png": "[encoded data removed]",
      "text/plain": [
       "<Figure size 864x432 with 1 Axes>"
      ]
     },
     "metadata": {
      "needs_background": "light"
     },
     "output_type": "display_data"
    }
   ],
   "source": [
    "ds_store.groupby(['Region'])['Sales','Profit'].sum().plot.bar(figsize=(12,6))\n",
    "plt.xlabel(\"REGION\",fontdict={'color':'black','fontsize':15})\n",
    "plt.title(\"REGION WISE SALES AND PROFIT\",fontdict={'color':'black','fontsize':20})"
   ]
  },
  {
   "cell_type": "markdown",
   "id": "44b65647",
   "metadata": {},
   "source": [
    "Above plot tells us that the maximum sakes and profit happened in west region"
   ]
  },
  {
   "cell_type": "code",
   "execution_count": 34,
   "id": "d1e76a7b",
   "metadata": {},
   "outputs": [],
   "source": [
    "#filter out warnings\n",
    "import warnings\n",
    "warnings.filterwarnings(\"ignore\")"
   ]
  },
  {
   "cell_type": "code",
   "execution_count": 36,
   "id": "d9bb57c8",
   "metadata": {},
   "outputs": [
    {
     "data": {
      "text/plain": [
       "Text(0.5, 1.0, 'SEGMENT WISE SALES AND PROFIT')"
      ]
     },
     "execution_count": 36,
     "metadata": {},
     "output_type": "execute_result"
    },
    {
     "data": {
      "image/png": "[encoded data removed]",
      "text/plain": [
       "<Figure size 864x432 with 1 Axes>"
      ]
     },
     "metadata": {
      "needs_background": "light"
     },
     "output_type": "display_data"
    }
   ],
   "source": [
    "ds_store.groupby(['Segment'])['Sales','Profit'].sum().plot.bar(figsize=(12,6))\n",
    "plt.title(\"SEGMENT WISE SALES AND PROFIT\")"
   ]
  },
  {
   "cell_type": "markdown",
   "id": "77ecf8e2",
   "metadata": {},
   "source": [
    "    From the above bar plot we explore that Consumer segment has maximum buying capacity and  maximum profit to Superstore "
   ]
  },
  {
   "cell_type": "code",
   "execution_count": 43,
   "id": "b18263be",
   "metadata": {},
   "outputs": [
    {
     "data": {
      "text/plain": [
       "<seaborn.axisgrid.FacetGrid at 0x1e8c291c5b0>"
      ]
     },
     "execution_count": 43,
     "metadata": {},
     "output_type": "execute_result"
    },
    {
     "data": {
      "image/png": "[encoded data removed]",
      "text/plain": [
       "<Figure size 360x360 with 1 Axes>"
      ]
     },
     "metadata": {
      "needs_background": "light"
     },
     "output_type": "display_data"
    }
   ],
   "source": [
    "sns.lmplot(x='Discount',y='Profit',data=ds_store)"
   ]
  },
  {
   "cell_type": "markdown",
   "id": "a103bec4",
   "metadata": {},
   "source": [
    "Above graph explains that profit reduces with discount which means they are negatively correlated"
   ]
  },
  {
   "cell_type": "code",
   "execution_count": 44,
   "id": "5d90fc7b",
   "metadata": {},
   "outputs": [],
   "source": [
    "corr=ds_store.corr()"
   ]
  },
  {
   "cell_type": "code",
   "execution_count": 47,
   "id": "d4d8acaf",
   "metadata": {},
   "outputs": [
    {
     "data": {
      "text/plain": [
       "<AxesSubplot:>"
      ]
     },
     "execution_count": 47,
     "metadata": {},
     "output_type": "execute_result"
    },
    {
     "data": {
      "image/png": "[encoded data removed]",
      "text/plain": [
       "<Figure size 1008x504 with 2 Axes>"
      ]
     },
     "metadata": {
      "needs_background": "light"
     },
     "output_type": "display_data"
    }
   ],
   "source": [
    "plt.subplots(figsize=(14,7))\n",
    "sns.heatmap(corr)"
   ]
  },
  {
   "cell_type": "markdown",
   "id": "a5764c62",
   "metadata": {},
   "source": [
    "    Above data tells us that sales and profit are somewhat positively correlated"
   ]
  },
  {
   "cell_type": "code",
   "execution_count": 49,
   "id": "6b4af70c",
   "metadata": {},
   "outputs": [
    {
     "data": {
      "text/plain": [
       "Text(0.5, 1.0, ' SALES vs SUB-CATEGORY')"
      ]
     },
     "execution_count": 49,
     "metadata": {},
     "output_type": "execute_result"
    },
    {
     "data": {
      "image/png": "[encoded data removed]",
      "text/plain": [
       "<Figure size 864x432 with 1 Axes>"
      ]
     },
     "metadata": {
      "needs_background": "light"
     },
     "output_type": "display_data"
    }
   ],
   "source": [
    "ds_store.groupby(['Sub-Category'])['Sales'].sum().sort_values().plot.bar(figsize=(12,6))\n",
    "plt.title(\" SALES vs SUB-CATEGORY\",fontdict={'color':'black','fontsize':25})"
   ]
  },
  {
   "cell_type": "markdown",
   "id": "1bce88a9",
   "metadata": {},
   "source": [
    "From above graph we conclude that phones and chiars are things that sold most and fasteners labels and envelopes are the items that sold least"
   ]
  },
  {
   "cell_type": "code",
   "execution_count": 64,
   "id": "c6ba7849",
   "metadata": {},
   "outputs": [
    {
     "data": {
      "text/plain": [
       "<AxesSubplot:xlabel='Sub-Category', ylabel='Profit'>"
      ]
     },
     "execution_count": 64,
     "metadata": {},
     "output_type": "execute_result"
    },
    {
     "data": {
      "image/png": "[encoded data removed]",
      "text/plain": [
       "<Figure size 1080x720 with 1 Axes>"
      ]
     },
     "metadata": {
      "needs_background": "light"
     },
     "output_type": "display_data"
    }
   ],
   "source": [
    "plt.subplots(figsize=(15,10))\n",
    "sns.stripplot(x=ds_store['Sub-Category'],y=ds_store.Profit)"
   ]
  },
  {
   "cell_type": "markdown",
   "id": "f62830ee",
   "metadata": {},
   "source": [
    "Above data tells us thatprofit is mostly made in selling Copiers while Machines mostly incurr losses"
   ]
  },
  {
   "cell_type": "markdown",
   "id": "a9ec5e3a",
   "metadata": {},
   "source": [
    "## City wise Data Analysis "
   ]
  },
  {
   "cell_type": "code",
   "execution_count": 68,
   "id": "10fb1f46",
   "metadata": {},
   "outputs": [
    {
     "data": {
      "text/plain": [
       "<AxesSubplot:xlabel='City'>"
      ]
     },
     "execution_count": 68,
     "metadata": {},
     "output_type": "execute_result"
    },
    {
     "data": {
      "image/png": "[encoded data removed]",
      "text/plain": [
       "<Figure size 432x288 with 1 Axes>"
      ]
     },
     "metadata": {
      "needs_background": "light"
     },
     "output_type": "display_data"
    }
   ],
   "source": [
    "ds_store.groupby(ds_store.City)['Profit'].sum().sort_values().tail(10).plot.bar()"
   ]
  },
  {
   "cell_type": "markdown",
   "id": "fd3643c1",
   "metadata": {},
   "source": [
    "#### Above Plot tells top 10 cities in terms of yielding profit where New York city gives maximum profit"
   ]
  },
  {
   "cell_type": "code",
   "execution_count": 69,
   "id": "a7a91287",
   "metadata": {},
   "outputs": [
    {
     "data": {
      "text/plain": [
       "<AxesSubplot:xlabel='City'>"
      ]
     },
     "execution_count": 69,
     "metadata": {},
     "output_type": "execute_result"
    },
    {
     "data": {
      "image/png": "[encoded data removed]",
      "text/plain": [
       "<Figure size 432x288 with 1 Axes>"
      ]
     },
     "metadata": {
      "needs_background": "light"
     },
     "output_type": "display_data"
    }
   ],
   "source": [
    "ds_store.groupby(ds_store.City)['Profit'].sum().sort_values().head(10).plot.bar()"
   ]
  },
  {
   "cell_type": "markdown",
   "id": "30e2d7dd",
   "metadata": {},
   "source": [
    "##### Above Plot tells top 10 cities in terms of yielding loss where Philadelphia city gives maximum loss"
   ]
  },
  {
   "cell_type": "markdown",
   "id": "e1c30047",
   "metadata": {},
   "source": [
    "### Now we try to see how we can help the business in cities incurring losses"
   ]
  },
  {
   "cell_type": "code",
   "execution_count": 139,
   "id": "eb5ed5c6",
   "metadata": {},
   "outputs": [],
   "source": [
    "ds_store=ds_store.drop('city wise profits',axis=1)"
   ]
  },
  {
   "cell_type": "code",
   "execution_count": 140,
   "id": "e9a903d7",
   "metadata": {},
   "outputs": [],
   "source": [
    "cities=['Philadelphia','Housten','San Antonio','Lancaster','Chicago','Burlington','Dallas','Phoenix','Aurora','Jacksonville']\n",
    "loss_citydat=[]\n",
    "for x in ds_store.City:\n",
    "    if x in cities:\n",
    "        loss_citydat.append(True)\n",
    "    else:\n",
    "        loss_citydat.append(False)\n",
    "df_losses=ds_store[loss_citydat]        \n",
    "        "
   ]
  },
  {
   "cell_type": "code",
   "execution_count": 141,
   "id": "a90f7009",
   "metadata": {},
   "outputs": [],
   "source": [
    "df_losses=df_losses.sort_values(by='Profit')\n",
    "pde=df_losses.head(20)"
   ]
  },
  {
   "cell_type": "markdown",
   "id": "bf8f54f4",
   "metadata": {},
   "source": [
    "Now 'pde' has data of cities giving maximum losses and the products yielding loss"
   ]
  },
  {
   "cell_type": "code",
   "execution_count": 142,
   "id": "b7f03d54",
   "metadata": {},
   "outputs": [
    {
     "data": {
      "text/html": [
       "<div>\n",
       "<style scoped>\n",
       "    .dataframe tbody tr th:only-of-type {\n",
       "        vertical-align: middle;\n",
       "    }\n",
       "\n",
       "    .dataframe tbody tr th {\n",
       "        vertical-align: top;\n",
       "    }\n",
       "\n",
       "    .dataframe thead th {\n",
       "        text-align: right;\n",
       "    }\n",
       "</style>\n",
       "<table border=\"1\" class=\"dataframe\">\n",
       "  <thead>\n",
       "    <tr style=\"text-align: right;\">\n",
       "      <th></th>\n",
       "      <th>Ship Mode</th>\n",
       "      <th>Segment</th>\n",
       "      <th>Country</th>\n",
       "      <th>City</th>\n",
       "      <th>State</th>\n",
       "      <th>Postal Code</th>\n",
       "      <th>Region</th>\n",
       "      <th>Category</th>\n",
       "      <th>Sales</th>\n",
       "      <th>Quantity</th>\n",
       "      <th>Discount</th>\n",
       "      <th>Profit</th>\n",
       "    </tr>\n",
       "    <tr>\n",
       "      <th>Sub-Category</th>\n",
       "      <th></th>\n",
       "      <th></th>\n",
       "      <th></th>\n",
       "      <th></th>\n",
       "      <th></th>\n",
       "      <th></th>\n",
       "      <th></th>\n",
       "      <th></th>\n",
       "      <th></th>\n",
       "      <th></th>\n",
       "      <th></th>\n",
       "      <th></th>\n",
       "    </tr>\n",
       "  </thead>\n",
       "  <tbody>\n",
       "    <tr>\n",
       "      <th>Appliances</th>\n",
       "      <td>1</td>\n",
       "      <td>1</td>\n",
       "      <td>1</td>\n",
       "      <td>1</td>\n",
       "      <td>1</td>\n",
       "      <td>1</td>\n",
       "      <td>1</td>\n",
       "      <td>1</td>\n",
       "      <td>1</td>\n",
       "      <td>1</td>\n",
       "      <td>1</td>\n",
       "      <td>1</td>\n",
       "    </tr>\n",
       "    <tr>\n",
       "      <th>Binders</th>\n",
       "      <td>7</td>\n",
       "      <td>7</td>\n",
       "      <td>7</td>\n",
       "      <td>7</td>\n",
       "      <td>7</td>\n",
       "      <td>7</td>\n",
       "      <td>7</td>\n",
       "      <td>7</td>\n",
       "      <td>7</td>\n",
       "      <td>7</td>\n",
       "      <td>7</td>\n",
       "      <td>7</td>\n",
       "    </tr>\n",
       "    <tr>\n",
       "      <th>Bookcases</th>\n",
       "      <td>1</td>\n",
       "      <td>1</td>\n",
       "      <td>1</td>\n",
       "      <td>1</td>\n",
       "      <td>1</td>\n",
       "      <td>1</td>\n",
       "      <td>1</td>\n",
       "      <td>1</td>\n",
       "      <td>1</td>\n",
       "      <td>1</td>\n",
       "      <td>1</td>\n",
       "      <td>1</td>\n",
       "    </tr>\n",
       "    <tr>\n",
       "      <th>Chairs</th>\n",
       "      <td>1</td>\n",
       "      <td>1</td>\n",
       "      <td>1</td>\n",
       "      <td>1</td>\n",
       "      <td>1</td>\n",
       "      <td>1</td>\n",
       "      <td>1</td>\n",
       "      <td>1</td>\n",
       "      <td>1</td>\n",
       "      <td>1</td>\n",
       "      <td>1</td>\n",
       "      <td>1</td>\n",
       "    </tr>\n",
       "    <tr>\n",
       "      <th>Machines</th>\n",
       "      <td>5</td>\n",
       "      <td>5</td>\n",
       "      <td>5</td>\n",
       "      <td>5</td>\n",
       "      <td>5</td>\n",
       "      <td>5</td>\n",
       "      <td>5</td>\n",
       "      <td>5</td>\n",
       "      <td>5</td>\n",
       "      <td>5</td>\n",
       "      <td>5</td>\n",
       "      <td>5</td>\n",
       "    </tr>\n",
       "    <tr>\n",
       "      <th>Supplies</th>\n",
       "      <td>1</td>\n",
       "      <td>1</td>\n",
       "      <td>1</td>\n",
       "      <td>1</td>\n",
       "      <td>1</td>\n",
       "      <td>1</td>\n",
       "      <td>1</td>\n",
       "      <td>1</td>\n",
       "      <td>1</td>\n",
       "      <td>1</td>\n",
       "      <td>1</td>\n",
       "      <td>1</td>\n",
       "    </tr>\n",
       "    <tr>\n",
       "      <th>Tables</th>\n",
       "      <td>4</td>\n",
       "      <td>4</td>\n",
       "      <td>4</td>\n",
       "      <td>4</td>\n",
       "      <td>4</td>\n",
       "      <td>4</td>\n",
       "      <td>4</td>\n",
       "      <td>4</td>\n",
       "      <td>4</td>\n",
       "      <td>4</td>\n",
       "      <td>4</td>\n",
       "      <td>4</td>\n",
       "    </tr>\n",
       "  </tbody>\n",
       "</table>\n",
       "</div>"
      ],
      "text/plain": [
       "              Ship Mode  Segment  Country  City  State  Postal Code  Region  \\\n",
       "Sub-Category                                                                  \n",
       "Appliances            1        1        1     1      1            1       1   \n",
       "Binders               7        7        7     7      7            7       7   \n",
       "Bookcases             1        1        1     1      1            1       1   \n",
       "Chairs                1        1        1     1      1            1       1   \n",
       "Machines              5        5        5     5      5            5       5   \n",
       "Supplies              1        1        1     1      1            1       1   \n",
       "Tables                4        4        4     4      4            4       4   \n",
       "\n",
       "              Category  Sales  Quantity  Discount  Profit  \n",
       "Sub-Category                                               \n",
       "Appliances           1      1         1         1       1  \n",
       "Binders              7      7         7         7       7  \n",
       "Bookcases            1      1         1         1       1  \n",
       "Chairs               1      1         1         1       1  \n",
       "Machines             5      5         5         5       5  \n",
       "Supplies             1      1         1         1       1  \n",
       "Tables               4      4         4         4       4  "
      ]
     },
     "execution_count": 142,
     "metadata": {},
     "output_type": "execute_result"
    }
   ],
   "source": [
    "pde.groupby('Sub-Category').count()"
   ]
  },
  {
   "cell_type": "markdown",
   "id": "f58d2389",
   "metadata": {},
   "source": [
    "In cities incurring losses it is Binders Machines and Tables which are sold more so they will incurr more loss "
   ]
  },
  {
   "cell_type": "markdown",
   "id": "263c5e07",
   "metadata": {},
   "source": [
    "# Summary\n"
   ]
  },
  {
   "cell_type": "markdown",
   "id": "ff336a1b",
   "metadata": {},
   "source": [
    "#### 1.MAXIMUM TRANSACTIONS were made in WEST REGION\n",
    "\n",
    "#### 2.MAXIMUM SALES in WEST REGION\n",
    "\n",
    "#### 3.MAXIMUM PROFITS in WEST REGION\n",
    "\n",
    "#### 4.MAXIMUM SALES AND PROFIT in CONSUMER SEGMENT\n",
    "\n",
    "#### 5.MOST ITEMS BOUGHT WERE FROM OFFICE SUPPLIES CATEGORY\n",
    "\n",
    "#### 6.UNDER FURNITURE TABLES AND BOOKCASES INCURR MORE LOSS THAN PROFIT \n",
    "\n",
    "#### 7.MINIMUM PROFIT IS MADE IN PHILADELPHIA WHERE MAXIMUM DISCOUNT IS GIVEN\n",
    "\n",
    "#### 8.MAXIMUM PROFIT IS MADE BY SELLING COPIERS\n",
    "\n",
    "#### 9.PHONES AND CHAIRS HAVE MAXIMUM SALES\n",
    "\n",
    "#### 10.PROFIT AND SALES ARE POSITIVELY CORRELATED WHEREAS PROFIT AND DISCOUNT SHARE NEGATIVE CORRELATION\n",
    "\n",
    "#### 11.LEAST PROFIT IS MADE FROM CENTRAL REGION\n",
    "\n",
    "#### 12.NEW YORK CITY ,LOS ANGELES AND SEATTLE ARE THE TOP PROFITABLE CITIES(IN DESCENDING ORDER)"
   ]
  },
  {
   "cell_type": "markdown",
   "id": "425cc462",
   "metadata": {},
   "source": [
    "# CONCLUSION"
   ]
  },
  {
   "cell_type": "markdown",
   "id": "36b2bfc0",
   "metadata": {},
   "source": [
    "##### In furniture category tables, bookcases are sold in high discounts which result in losses. Attention is required in such products. Less sale might be helpful.\n",
    "#### In cities like Philadelphia, Housten, San Antonio, sale of product like Binders machines and tables should be reduced as they comprise most of the losses. Another way can be improving the quality of these produts so as to reduce discounts on them so that profits are made.\n",
    "#### In cities like New York , Los Angeles , Seattle profit can be further increased by increasing sale of office supplies and technology products like phones,copiers , chairs ,Accessories as they yield more profit"
   ]
  },
  {
   "cell_type": "markdown",
   "id": "45177fb7",
   "metadata": {},
   "source": [
    "# Thankyou!"
   ]
  },
  {
   "cell_type": "code",
   "execution_count": null,
   "id": "487d57f3",
   "metadata": {},
   "outputs": [],
   "source": []
  }
 ],
 "metadata": {
  "kernelspec": {
   "display_name": "Python 3 (ipykernel)",
   "language": "python",
   "name": "python3"
  },
  "language_info": {
   "codemirror_mode": {
    "name": "ipython",
    "version": 3
   },
   "file_extension": ".py",
   "mimetype": "text/x-python",
   "name": "python",
   "nbconvert_exporter": "python",
   "pygments_lexer": "ipython3",
   "version": "3.9.7"
  }
 },
 "nbformat": 4,
 "nbformat_minor": 5
}
