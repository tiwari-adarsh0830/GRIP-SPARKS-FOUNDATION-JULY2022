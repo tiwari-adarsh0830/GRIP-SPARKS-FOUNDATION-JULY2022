{
 "cells": [
  {
   "cell_type": "markdown",
   "id": "6017c29c",
   "metadata": {},
   "source": [
    "# Author- Adarsh Tiwari\n"
   ]
  },
  {
   "cell_type": "markdown",
   "id": "cfff77ce",
   "metadata": {},
   "source": [
    "# TASK 1: PREDICTION USING SUPERVISED MACHINE LEARNING\n",
    "\n"
   ]
  },
  {
   "cell_type": "markdown",
   "id": "5a74b924",
   "metadata": {},
   "source": [
    "### THE SPARKS FOUNDATION (GRIP): DATA SCIENCE AND BUSINESS ANALYTICS"
   ]
  },
  {
   "cell_type": "markdown",
   "id": "bbe02e44",
   "metadata": {},
   "source": [
    "In this regression task we will use the Python Scikit- Learn library for machine learning to implement regression functions. In this task, we will try to predict student's marks based on her hours of study. Since it is a simple task, so only two variables will be involved.\n",
    "\n"
   ]
  },
  {
   "cell_type": "markdown",
   "id": "8e25d0f3",
   "metadata": {},
   "source": [
    "### IMPORTING ESSENTIAL LIBRARIES"
   ]
  },
  {
   "cell_type": "code",
   "execution_count": 1,
   "id": "c9f5d4c9",
   "metadata": {},
   "outputs": [],
   "source": [
    "#Importing the required libraries\n",
    "import matplotlib.pyplot as plt\n",
    "import pandas as pd\n",
    "import numpy as np\n",
    "%matplotlib inline\n",
    "from sklearn.model_selection import *\n",
    "from sklearn.linear_model import *\n",
    "from sklearn import metrics"
   ]
  },
  {
   "cell_type": "markdown",
   "id": "660f126f",
   "metadata": {},
   "source": [
    "### READING THE DATA"
   ]
  },
  {
   "cell_type": "code",
   "execution_count": 4,
   "id": "f3fabb83",
   "metadata": {},
   "outputs": [
    {
     "data": {
      "text/html": [
       "<div>\n",
       "<style scoped>\n",
       "    .dataframe tbody tr th:only-of-type {\n",
       "        vertical-align: middle;\n",
       "    }\n",
       "\n",
       "    .dataframe tbody tr th {\n",
       "        vertical-align: top;\n",
       "    }\n",
       "\n",
       "    .dataframe thead th {\n",
       "        text-align: right;\n",
       "    }\n",
       "</style>\n",
       "<table border=\"1\" class=\"dataframe\">\n",
       "  <thead>\n",
       "    <tr style=\"text-align: right;\">\n",
       "      <th></th>\n",
       "      <th>Hours</th>\n",
       "      <th>Scores</th>\n",
       "    </tr>\n",
       "  </thead>\n",
       "  <tbody>\n",
       "    <tr>\n",
       "      <th>0</th>\n",
       "      <td>2.5</td>\n",
       "      <td>21</td>\n",
       "    </tr>\n",
       "    <tr>\n",
       "      <th>1</th>\n",
       "      <td>5.1</td>\n",
       "      <td>47</td>\n",
       "    </tr>\n",
       "    <tr>\n",
       "      <th>2</th>\n",
       "      <td>3.2</td>\n",
       "      <td>27</td>\n",
       "    </tr>\n",
       "    <tr>\n",
       "      <th>3</th>\n",
       "      <td>8.5</td>\n",
       "      <td>75</td>\n",
       "    </tr>\n",
       "    <tr>\n",
       "      <th>4</th>\n",
       "      <td>3.5</td>\n",
       "      <td>30</td>\n",
       "    </tr>\n",
       "    <tr>\n",
       "      <th>5</th>\n",
       "      <td>1.5</td>\n",
       "      <td>20</td>\n",
       "    </tr>\n",
       "    <tr>\n",
       "      <th>6</th>\n",
       "      <td>9.2</td>\n",
       "      <td>88</td>\n",
       "    </tr>\n",
       "    <tr>\n",
       "      <th>7</th>\n",
       "      <td>5.5</td>\n",
       "      <td>60</td>\n",
       "    </tr>\n",
       "    <tr>\n",
       "      <th>8</th>\n",
       "      <td>8.3</td>\n",
       "      <td>81</td>\n",
       "    </tr>\n",
       "    <tr>\n",
       "      <th>9</th>\n",
       "      <td>2.7</td>\n",
       "      <td>25</td>\n",
       "    </tr>\n",
       "  </tbody>\n",
       "</table>\n",
       "</div>"
      ],
      "text/plain": [
       "   Hours  Scores\n",
       "0    2.5      21\n",
       "1    5.1      47\n",
       "2    3.2      27\n",
       "3    8.5      75\n",
       "4    3.5      30\n",
       "5    1.5      20\n",
       "6    9.2      88\n",
       "7    5.5      60\n",
       "8    8.3      81\n",
       "9    2.7      25"
      ]
     },
     "execution_count": 4,
     "metadata": {},
     "output_type": "execute_result"
    }
   ],
   "source": [
    "# Reading data remotely using link\n",
    "dat = \"https://raw.githubusercontent.com/AdiPersonalWorks/Random/master/student_scores%20-%20student_scores.csv\"\n",
    "dframe = pd.read_csv(dat)\n",
    "dframe.head(10)"
   ]
  },
  {
   "cell_type": "markdown",
   "id": "72c228e7",
   "metadata": {},
   "source": [
    "##### Exploratory DATA Analysis"
   ]
  },
  {
   "cell_type": "code",
   "execution_count": 6,
   "id": "81a2eac5",
   "metadata": {},
   "outputs": [
    {
     "data": {
      "text/plain": [
       "(25, 2)"
      ]
     },
     "execution_count": 6,
     "metadata": {},
     "output_type": "execute_result"
    }
   ],
   "source": [
    "#Shape of dataset given\n",
    "dframe.shape"
   ]
  },
  {
   "cell_type": "code",
   "execution_count": 9,
   "id": "8836d0d7",
   "metadata": {},
   "outputs": [
    {
     "data": {
      "text/plain": [
       "Index(['Hours', 'Scores'], dtype='object')"
      ]
     },
     "execution_count": 9,
     "metadata": {},
     "output_type": "execute_result"
    }
   ],
   "source": [
    "#columns in a dataset given\n",
    "dframe.columns"
   ]
  },
  {
   "cell_type": "code",
   "execution_count": 10,
   "id": "fc4898a1",
   "metadata": {},
   "outputs": [
    {
     "name": "stdout",
     "output_type": "stream",
     "text": [
      "<class 'pandas.core.frame.DataFrame'>\n",
      "RangeIndex: 25 entries, 0 to 24\n",
      "Data columns (total 2 columns):\n",
      " #   Column  Non-Null Count  Dtype  \n",
      "---  ------  --------------  -----  \n",
      " 0   Hours   25 non-null     float64\n",
      " 1   Scores  25 non-null     int64  \n",
      "dtypes: float64(1), int64(1)\n",
      "memory usage: 528.0 bytes\n"
     ]
    }
   ],
   "source": [
    "dframe.info()"
   ]
  },
  {
   "cell_type": "markdown",
   "id": "283110e4",
   "metadata": {},
   "source": [
    "THE Data is complete and without any null values"
   ]
  },
  {
   "cell_type": "code",
   "execution_count": 11,
   "id": "6e36c269",
   "metadata": {},
   "outputs": [
    {
     "data": {
      "text/html": [
       "<div>\n",
       "<style scoped>\n",
       "    .dataframe tbody tr th:only-of-type {\n",
       "        vertical-align: middle;\n",
       "    }\n",
       "\n",
       "    .dataframe tbody tr th {\n",
       "        vertical-align: top;\n",
       "    }\n",
       "\n",
       "    .dataframe thead th {\n",
       "        text-align: right;\n",
       "    }\n",
       "</style>\n",
       "<table border=\"1\" class=\"dataframe\">\n",
       "  <thead>\n",
       "    <tr style=\"text-align: right;\">\n",
       "      <th></th>\n",
       "      <th>Hours</th>\n",
       "      <th>Scores</th>\n",
       "    </tr>\n",
       "  </thead>\n",
       "  <tbody>\n",
       "    <tr>\n",
       "      <th>count</th>\n",
       "      <td>25.000000</td>\n",
       "      <td>25.000000</td>\n",
       "    </tr>\n",
       "    <tr>\n",
       "      <th>mean</th>\n",
       "      <td>5.012000</td>\n",
       "      <td>51.480000</td>\n",
       "    </tr>\n",
       "    <tr>\n",
       "      <th>std</th>\n",
       "      <td>2.525094</td>\n",
       "      <td>25.286887</td>\n",
       "    </tr>\n",
       "    <tr>\n",
       "      <th>min</th>\n",
       "      <td>1.100000</td>\n",
       "      <td>17.000000</td>\n",
       "    </tr>\n",
       "    <tr>\n",
       "      <th>25%</th>\n",
       "      <td>2.700000</td>\n",
       "      <td>30.000000</td>\n",
       "    </tr>\n",
       "    <tr>\n",
       "      <th>50%</th>\n",
       "      <td>4.800000</td>\n",
       "      <td>47.000000</td>\n",
       "    </tr>\n",
       "    <tr>\n",
       "      <th>75%</th>\n",
       "      <td>7.400000</td>\n",
       "      <td>75.000000</td>\n",
       "    </tr>\n",
       "    <tr>\n",
       "      <th>max</th>\n",
       "      <td>9.200000</td>\n",
       "      <td>95.000000</td>\n",
       "    </tr>\n",
       "  </tbody>\n",
       "</table>\n",
       "</div>"
      ],
      "text/plain": [
       "           Hours     Scores\n",
       "count  25.000000  25.000000\n",
       "mean    5.012000  51.480000\n",
       "std     2.525094  25.286887\n",
       "min     1.100000  17.000000\n",
       "25%     2.700000  30.000000\n",
       "50%     4.800000  47.000000\n",
       "75%     7.400000  75.000000\n",
       "max     9.200000  95.000000"
      ]
     },
     "execution_count": 11,
     "metadata": {},
     "output_type": "execute_result"
    }
   ],
   "source": [
    "#statistical analysis of dataframe given\n",
    "dframe.describe()"
   ]
  },
  {
   "cell_type": "markdown",
   "id": "3eeeed61",
   "metadata": {},
   "source": [
    "### Data Visualization "
   ]
  },
  {
   "cell_type": "code",
   "execution_count": 16,
   "id": "f187528f",
   "metadata": {},
   "outputs": [
    {
     "data": {
      "image/png": "[encoded data removed]",
      "text/plain": [
       "<Figure size 432x288 with 1 Axes>"
      ]
     },
     "metadata": {
      "needs_background": "light"
     },
     "output_type": "display_data"
    }
   ],
   "source": [
    "#Plotting the scores\n",
    "dframe.plot(x='Hours',y='Scores', style='*')\n",
    "plt.title('Hours vs Score')\n",
    "plt.xlabel('Study hours')\n",
    "plt.ylabel('Score')\n",
    "plt.show()"
   ]
  },
  {
   "cell_type": "markdown",
   "id": "66d733d1",
   "metadata": {},
   "source": [
    "We observe that there is a linear relation between Score and Hours . Next we will preprocess data to put into our machine learning model."
   ]
  },
  {
   "cell_type": "markdown",
   "id": "0deec723",
   "metadata": {},
   "source": [
    "### Data Preprocessing "
   ]
  },
  {
   "cell_type": "code",
   "execution_count": 18,
   "id": "a05e2ab8",
   "metadata": {},
   "outputs": [],
   "source": [
    "#assigning hours as input data(independent variable) and marks as output data(dependent varible)\n",
    "x= dframe.iloc[:,0]\n",
    "y= dframe.iloc[:,1]"
   ]
  },
  {
   "cell_type": "markdown",
   "id": "c47679ae",
   "metadata": {},
   "source": [
    "### Training the model "
   ]
  },
  {
   "cell_type": "code",
   "execution_count": 24,
   "id": "989f9518",
   "metadata": {},
   "outputs": [
    {
     "name": "stdout",
     "output_type": "stream",
     "text": [
      "Training Complete\n"
     ]
    }
   ],
   "source": [
    "#Splitting the data into two sets 'training and testing'.\n",
    "x_train, x_test, y_train, y_test = train_test_split(x,y, test_size =0.2,random_state=0)\n",
    "regression = LinearRegression()\n",
    "x_train = np.array([x_train])\n",
    "x_train=x_train.reshape(-1,1)\n",
    "regression.fit(x_train,y_train)\n",
    "print('Training Complete')"
   ]
  },
  {
   "cell_type": "markdown",
   "id": "76472962",
   "metadata": {},
   "source": [
    "### Plotting the Linear Regression line "
   ]
  },
  {
   "cell_type": "code",
   "execution_count": 26,
   "id": "29deaa6b",
   "metadata": {},
   "outputs": [
    {
     "data": {
      "image/png": "[encoded data removed]",
      "text/plain": [
       "<Figure size 432x288 with 1 Axes>"
      ]
     },
     "metadata": {
      "needs_background": "light"
     },
     "output_type": "display_data"
    }
   ],
   "source": [
    "var= regression.coef_*x+regression.intercept_\n",
    "\n",
    "#Plotting for the test data\n",
    "plt.scatter(x,y)\n",
    "plt.plot(x, var, color='red');\n",
    "plt.show()"
   ]
  },
  {
   "cell_type": "markdown",
   "id": "79324de5",
   "metadata": {},
   "source": [
    "### Testing The Model "
   ]
  },
  {
   "cell_type": "code",
   "execution_count": 31,
   "id": "6515431b",
   "metadata": {},
   "outputs": [
    {
     "data": {
      "text/plain": [
       "array([16.88414476, 33.73226078, 75.357018  , 26.79480124, 60.49103328])"
      ]
     },
     "execution_count": 31,
     "metadata": {},
     "output_type": "execute_result"
    }
   ],
   "source": [
    "pred=regression.predict(np.array(x_test).reshape(-1,1))\n",
    "pred"
   ]
  },
  {
   "cell_type": "code",
   "execution_count": 32,
   "id": "fced5a98",
   "metadata": {},
   "outputs": [
    {
     "data": {
      "text/html": [
       "<div>\n",
       "<style scoped>\n",
       "    .dataframe tbody tr th:only-of-type {\n",
       "        vertical-align: middle;\n",
       "    }\n",
       "\n",
       "    .dataframe tbody tr th {\n",
       "        vertical-align: top;\n",
       "    }\n",
       "\n",
       "    .dataframe thead th {\n",
       "        text-align: right;\n",
       "    }\n",
       "</style>\n",
       "<table border=\"1\" class=\"dataframe\">\n",
       "  <thead>\n",
       "    <tr style=\"text-align: right;\">\n",
       "      <th></th>\n",
       "      <th>RealData</th>\n",
       "      <th>PredictedData</th>\n",
       "    </tr>\n",
       "  </thead>\n",
       "  <tbody>\n",
       "    <tr>\n",
       "      <th>5</th>\n",
       "      <td>20</td>\n",
       "      <td>16.884145</td>\n",
       "    </tr>\n",
       "    <tr>\n",
       "      <th>2</th>\n",
       "      <td>27</td>\n",
       "      <td>33.732261</td>\n",
       "    </tr>\n",
       "    <tr>\n",
       "      <th>19</th>\n",
       "      <td>69</td>\n",
       "      <td>75.357018</td>\n",
       "    </tr>\n",
       "    <tr>\n",
       "      <th>16</th>\n",
       "      <td>30</td>\n",
       "      <td>26.794801</td>\n",
       "    </tr>\n",
       "    <tr>\n",
       "      <th>11</th>\n",
       "      <td>62</td>\n",
       "      <td>60.491033</td>\n",
       "    </tr>\n",
       "  </tbody>\n",
       "</table>\n",
       "</div>"
      ],
      "text/plain": [
       "    RealData  PredictedData\n",
       "5         20      16.884145\n",
       "2         27      33.732261\n",
       "19        69      75.357018\n",
       "16        30      26.794801\n",
       "11        62      60.491033"
      ]
     },
     "execution_count": 32,
     "metadata": {},
     "output_type": "execute_result"
    }
   ],
   "source": [
    "#Comparing the Real Results with the Predicted One\n",
    "df= pd.DataFrame({'RealData':y_test, 'PredictedData':pred})\n",
    "df"
   ]
  },
  {
   "cell_type": "markdown",
   "id": "eb05425c",
   "metadata": {},
   "source": [
    "Testing of score for given 0.25 hours of study"
   ]
  },
  {
   "cell_type": "code",
   "execution_count": 34,
   "id": "274d544a",
   "metadata": {},
   "outputs": [
    {
     "name": "stdout",
     "output_type": "stream",
     "text": [
      "Number of Hours Studied =9.25\n",
      "Predicted Score =93.69173248737538\n"
     ]
    }
   ],
   "source": [
    "hours=9.25\n",
    "test=np.array([hours])\n",
    "test=test.reshape(-1,1)\n",
    "predictions=regression.predict(test)\n",
    "print(\"Number of Hours Studied ={}\".format(hours))\n",
    "print(\"Predicted Score ={}\".format(predictions[0]))"
   ]
  },
  {
   "cell_type": "markdown",
   "id": "1f020d46",
   "metadata": {},
   "source": [
    "### Evaluating the Performance of the Model"
   ]
  },
  {
   "cell_type": "code",
   "execution_count": 41,
   "id": "def22cb2",
   "metadata": {},
   "outputs": [
    {
     "name": "stdout",
     "output_type": "stream",
     "text": [
      "Mean Absolute Error: 4.183859899002975\n",
      "Mean Squared Error: 21.5987693072174\n"
     ]
    }
   ],
   "source": [
    "print('Mean Absolute Error:' ,\n",
    "      metrics.mean_absolute_error(y_test,pred))\n",
    "print('Mean Squared Error:', \n",
    "      metrics.mean_squared_error(y_test, pred)) "
   ]
  },
  {
   "cell_type": "code",
   "execution_count": 42,
   "id": "4b50bf0f",
   "metadata": {},
   "outputs": [
    {
     "data": {
      "text/plain": [
       "0.9454906892105356"
      ]
     },
     "execution_count": 42,
     "metadata": {},
     "output_type": "execute_result"
    }
   ],
   "source": [
    "from sklearn.metrics import r2_score\n",
    "r2_score(y_test,pred)"
   ]
  },
  {
   "cell_type": "markdown",
   "id": "5f6210be",
   "metadata": {},
   "source": [
    "# Conclusion"
   ]
  },
  {
   "cell_type": "markdown",
   "id": "0278cfe7",
   "metadata": {},
   "source": [
    "1.We have successfully created a Simple linear Regression model to predict score of the student given number of hours one studies."
   ]
  },
  {
   "cell_type": "markdown",
   "id": "1c83178a",
   "metadata": {},
   "source": [
    "2.We get Predicted Score as 93.69 when number of Hours Studied are 9.25 hours.\n"
   ]
  },
  {
   "cell_type": "markdown",
   "id": "f86cf8a3",
   "metadata": {},
   "source": [
    "3.We get a very less MAE and MSE and r2 score of the model is 0.94 which means model is accurate."
   ]
  },
  {
   "cell_type": "code",
   "execution_count": null,
   "id": "e1d13506",
   "metadata": {},
   "outputs": [],
   "source": []
  }
 ],
 "metadata": {
  "kernelspec": {
   "display_name": "Python 3 (ipykernel)",
   "language": "python",
   "name": "python3"
  },
  "language_info": {
   "codemirror_mode": {
    "name": "ipython",
    "version": 3
   },
   "file_extension": ".py",
   "mimetype": "text/x-python",
   "name": "python",
   "nbconvert_exporter": "python",
   "pygments_lexer": "ipython3",
   "version": "3.9.7"
  }
 },
 "nbformat": 4,
 "nbformat_minor": 5
}
